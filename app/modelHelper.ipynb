{
 "cells": [
  {
   "cell_type": "code",
   "execution_count": null,
   "id": "0cbe3a0e-4dcc-40cd-8450-f6027ba0ec71",
   "metadata": {},
   "outputs": [],
   "source": [
    "import pandas as pd\n",
    "import pickle\n",
    "import numpy as np\n",
    "\n",
    "class ModelHelper():\n",
    "    def __init__(self):\n",
    "        pass\n",
    "\n",
    "    def makePredictions(self, sex_flag, age, fare, familySize, p_class, embarked, has_cabin):\n",
    "        # create dataframe of one row for inference\n",
    "        df = pd.DataFrame()\n",
    "        df[\"Sex\"] = [sex_flag]\n",
    "        df[\"Age\"] = [age]\n",
    "        df[\"Fare\"] = [fare]\n",
    "        df[\"Has_Cabin\"] = [has_cabin]\n",
    "        df[\"Family_Size\"] = [familySize]\n",
    "        df[\"Pclass\"] = [p_class]\n",
    "        df[\"Embarked\"] = [embarked]\n",
    "\n",
    "        # model\n",
    "        model = pickle.load(open(\"titanic_model_pipeline2.h5\", 'rb'))\n",
    "\n",
    "        # columns in order\n",
    "        df = df.loc[:, ['Pclass', 'Sex', 'Age', 'Fare', 'Embarked', 'Has_Cabin', 'Family_Size']]\n",
    "\n",
    "        preds = model.predict_proba(df)\n",
    "        return(preds[0][1])\n"
   ]
  }
 ],
 "metadata": {
  "kernelspec": {
   "display_name": "Python 3 (ipykernel)",
   "language": "python",
   "name": "python3"
  },
  "language_info": {
   "codemirror_mode": {
    "name": "ipython",
    "version": 3
   },
   "file_extension": ".py",
   "mimetype": "text/x-python",
   "name": "python",
   "nbconvert_exporter": "python",
   "pygments_lexer": "ipython3",
   "version": "3.11.7"
  }
 },
 "nbformat": 4,
 "nbformat_minor": 5
}
