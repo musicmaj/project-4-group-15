{
 "cells": [
  {
   "cell_type": "code",
   "execution_count": 4,
   "id": "fff1856d-91f9-4002-a0fe-ee861065c1c6",
   "metadata": {},
   "outputs": [],
   "source": [
    "# Import necessary libraries\n",
    "import pandas as pd\n",
    "import pickle\n",
    "import numpy as np"
   ]
  },
  {
   "cell_type": "code",
   "execution_count": 7,
   "id": "bd82f26c-e079-4a3f-8509-9644399b080d",
   "metadata": {},
   "outputs": [
    {
     "ename": "NameError",
     "evalue": "name 'X_test' is not defined",
     "output_type": "error",
     "traceback": [
      "\u001b[0;31m---------------------------------------------------------------------------\u001b[0m",
      "\u001b[0;31mNameError\u001b[0m                                 Traceback (most recent call last)",
      "Cell \u001b[0;32mIn[7], line 43\u001b[0m\n\u001b[1;32m     40\u001b[0m     \u001b[38;5;28;01mreturn\u001b[39;00m predictions[\u001b[38;5;241m0\u001b[39m]\n\u001b[1;32m     42\u001b[0m \u001b[38;5;66;03m# Example: Making predictions on new data (replace 'X_test' with actual new data)\u001b[39;00m\n\u001b[0;32m---> 43\u001b[0m new_data_predictions \u001b[38;5;241m=\u001b[39m make_inference(\u001b[43mX_test\u001b[49m)  \u001b[38;5;66;03m# X_test is used for demonstration, replace with actual new data\u001b[39;00m\n\u001b[1;32m     44\u001b[0m \u001b[38;5;28mprint\u001b[39m(\u001b[38;5;124m\"\u001b[39m\u001b[38;5;124mPredictions for new data:\u001b[39m\u001b[38;5;124m\"\u001b[39m, new_data_predictions[:\u001b[38;5;241m5\u001b[39m])\n\u001b[1;32m     46\u001b[0m \u001b[38;5;66;03m# Now you can delete X_train and X_test if you no longer need them\u001b[39;00m\n",
      "\u001b[0;31mNameError\u001b[0m: name 'X_test' is not defined"
     ]
    }
   ],
   "source": [
    "# def makePredictions(host_identity_verified, instant_bookable, price, service_fee, \n",
    "#                     minimum_nights, review_rate_number, boro_bronx, boro_brooklyn, \n",
    "#                     boro_manhattan, boro_queens, boro_staten, cancellation_policy_flexible, \n",
    "#                     cancellation_policy_moderate, cancellation_policy_strict, room_type_entire, \n",
    "#                     room_type_hotelr, room_type_privater, room_type_sharedr):\n",
    "#     # Input data as a dictionary or list of values\n",
    "#     input_data = {\n",
    "#         'host_identity_verified': [host_identity_verified],\n",
    "#         'instant_bookable': [instant_bookable],\n",
    "#         'price': [price],\n",
    "#         'service_fee': [service_fee],\n",
    "#         'minimum_nights': [minimum_nights],\n",
    "#         'review_rate_number': [review_rate_number],\n",
    "#         'boro_bronx': [boro_bronx],\n",
    "#         'boro_brooklyn': [boro_brooklyn],\n",
    "#         'boro_manhattan': [boro_manhattan],\n",
    "#         'boro_queens': [boro_queens],\n",
    "#         'boro_staten': [boro_staten],\n",
    "#         'cancellation_policy_flexible': [cancellation_policy_flexible],\n",
    "#         'cancellation_policy_moderate': [cancellation_policy_moderate],\n",
    "#         'cancellation_policy_strict': [cancellation_policy_strict],\n",
    "#         'room_type_entire': [room_type_entire],\n",
    "#         'room_type_hotelr': [room_type_hotelr],\n",
    "#         'room_type_privater': [room_type_privater],\n",
    "#         'room_type_sharedr': [room_type_sharedr]\n",
    "#     }\n",
    "\n",
    "# Inference function to make predictions on new data\n",
    "def make_inference(new_data):\n",
    "    \"\"\"\n",
    "    Make predictions using the best model.\n",
    "    new_data should be a DataFrame with the same structure as X.\n",
    "    \"\"\"\n",
    "    # Preprocess the new data (scaling)\n",
    "    new_data_scaled = scaler.transform(new_data)\n",
    "    \n",
    "    # Make predictions using the best model\n",
    "    predictions = best_model.predict(new_data_scaled)\n",
    "    \n",
    "    return predictions[0]\n",
    "\n",
    "# Example: Making predictions on new data (replace 'X_test' with actual new data)\n",
    "new_data_predictions = make_inference(X_test)  # X_test is used for demonstration, replace with actual new data\n",
    "print(\"Predictions for new data:\", new_data_predictions[:5])\n",
    "\n",
    "# Now you can delete X_train and X_test if you no longer need them\n",
    "del X_train, X_test"
   ]
  },
  {
   "cell_type": "code",
   "execution_count": 8,
   "id": "46573bc2-daaa-4292-8463-83fdf7d17070",
   "metadata": {},
   "outputs": [
    {
     "ename": "NameError",
     "evalue": "name 'scaler' is not defined",
     "output_type": "error",
     "traceback": [
      "\u001b[0;31m---------------------------------------------------------------------------\u001b[0m",
      "\u001b[0;31mNameError\u001b[0m                                 Traceback (most recent call last)",
      "Cell \u001b[0;32mIn[8], line 2\u001b[0m\n\u001b[1;32m      1\u001b[0m \u001b[38;5;66;03m# Example call to the function with actual values\u001b[39;00m\n\u001b[0;32m----> 2\u001b[0m pred \u001b[38;5;241m=\u001b[39m \u001b[43mmakePredictions\u001b[49m\u001b[43m(\u001b[49m\n\u001b[1;32m      3\u001b[0m \u001b[43m    \u001b[49m\u001b[43mhost_identity_verified\u001b[49m\u001b[38;5;241;43m=\u001b[39;49m\u001b[38;5;28;43;01mTrue\u001b[39;49;00m\u001b[43m,\u001b[49m\u001b[43m \u001b[49m\n\u001b[1;32m      4\u001b[0m \u001b[43m    \u001b[49m\u001b[43minstant_bookable\u001b[49m\u001b[38;5;241;43m=\u001b[39;49m\u001b[38;5;28;43;01mFalse\u001b[39;49;00m\u001b[43m,\u001b[49m\u001b[43m \u001b[49m\n\u001b[1;32m      5\u001b[0m \u001b[43m    \u001b[49m\u001b[43mprice\u001b[49m\u001b[38;5;241;43m=\u001b[39;49m\u001b[38;5;241;43m200.0\u001b[39;49m\u001b[43m,\u001b[49m\u001b[43m \u001b[49m\n\u001b[1;32m      6\u001b[0m \u001b[43m    \u001b[49m\u001b[43mservice_fee\u001b[49m\u001b[38;5;241;43m=\u001b[39;49m\u001b[38;5;241;43m20.0\u001b[39;49m\u001b[43m,\u001b[49m\u001b[43m \u001b[49m\n\u001b[1;32m      7\u001b[0m \u001b[43m    \u001b[49m\u001b[43mminimum_nights\u001b[49m\u001b[38;5;241;43m=\u001b[39;49m\u001b[38;5;241;43m3\u001b[39;49m\u001b[43m,\u001b[49m\u001b[43m \u001b[49m\n\u001b[1;32m      8\u001b[0m \u001b[43m    \u001b[49m\u001b[43mreview_rate_number\u001b[49m\u001b[38;5;241;43m=\u001b[39;49m\u001b[38;5;241;43m4.5\u001b[39;49m\u001b[43m,\u001b[49m\u001b[43m \u001b[49m\n\u001b[1;32m      9\u001b[0m \u001b[43m    \u001b[49m\u001b[43mboro_bronx\u001b[49m\u001b[38;5;241;43m=\u001b[39;49m\u001b[38;5;28;43;01mFalse\u001b[39;49;00m\u001b[43m,\u001b[49m\u001b[43m \u001b[49m\n\u001b[1;32m     10\u001b[0m \u001b[43m    \u001b[49m\u001b[43mboro_brooklyn\u001b[49m\u001b[38;5;241;43m=\u001b[39;49m\u001b[38;5;28;43;01mTrue\u001b[39;49;00m\u001b[43m,\u001b[49m\u001b[43m \u001b[49m\n\u001b[1;32m     11\u001b[0m \u001b[43m    \u001b[49m\u001b[43mboro_manhattan\u001b[49m\u001b[38;5;241;43m=\u001b[39;49m\u001b[38;5;28;43;01mFalse\u001b[39;49;00m\u001b[43m,\u001b[49m\u001b[43m \u001b[49m\n\u001b[1;32m     12\u001b[0m \u001b[43m    \u001b[49m\u001b[43mboro_queens\u001b[49m\u001b[38;5;241;43m=\u001b[39;49m\u001b[38;5;28;43;01mFalse\u001b[39;49;00m\u001b[43m,\u001b[49m\u001b[43m \u001b[49m\n\u001b[1;32m     13\u001b[0m \u001b[43m    \u001b[49m\u001b[43mboro_staten\u001b[49m\u001b[38;5;241;43m=\u001b[39;49m\u001b[38;5;28;43;01mFalse\u001b[39;49;00m\u001b[43m,\u001b[49m\u001b[43m \u001b[49m\n\u001b[1;32m     14\u001b[0m \u001b[43m    \u001b[49m\u001b[43mcancellation_policy_flexible\u001b[49m\u001b[38;5;241;43m=\u001b[39;49m\u001b[38;5;28;43;01mTrue\u001b[39;49;00m\u001b[43m,\u001b[49m\u001b[43m \u001b[49m\n\u001b[1;32m     15\u001b[0m \u001b[43m    \u001b[49m\u001b[43mcancellation_policy_moderate\u001b[49m\u001b[38;5;241;43m=\u001b[39;49m\u001b[38;5;28;43;01mFalse\u001b[39;49;00m\u001b[43m,\u001b[49m\u001b[43m \u001b[49m\n\u001b[1;32m     16\u001b[0m \u001b[43m    \u001b[49m\u001b[43mcancellation_policy_strict\u001b[49m\u001b[38;5;241;43m=\u001b[39;49m\u001b[38;5;28;43;01mFalse\u001b[39;49;00m\u001b[43m,\u001b[49m\u001b[43m \u001b[49m\n\u001b[1;32m     17\u001b[0m \u001b[43m    \u001b[49m\u001b[43mroom_type_entire\u001b[49m\u001b[38;5;241;43m=\u001b[39;49m\u001b[38;5;28;43;01mTrue\u001b[39;49;00m\u001b[43m,\u001b[49m\u001b[43m \u001b[49m\n\u001b[1;32m     18\u001b[0m \u001b[43m    \u001b[49m\u001b[43mroom_type_hotelr\u001b[49m\u001b[38;5;241;43m=\u001b[39;49m\u001b[38;5;28;43;01mFalse\u001b[39;49;00m\u001b[43m,\u001b[49m\u001b[43m \u001b[49m\n\u001b[1;32m     19\u001b[0m \u001b[43m    \u001b[49m\u001b[43mroom_type_privater\u001b[49m\u001b[38;5;241;43m=\u001b[39;49m\u001b[38;5;28;43;01mFalse\u001b[39;49;00m\u001b[43m,\u001b[49m\u001b[43m \u001b[49m\n\u001b[1;32m     20\u001b[0m \u001b[43m    \u001b[49m\u001b[43mroom_type_sharedr\u001b[49m\u001b[38;5;241;43m=\u001b[39;49m\u001b[38;5;28;43;01mFalse\u001b[39;49;00m\n\u001b[1;32m     21\u001b[0m \u001b[43m)\u001b[49m\n\u001b[1;32m     23\u001b[0m \u001b[38;5;28mprint\u001b[39m(\u001b[38;5;124m\"\u001b[39m\u001b[38;5;124mPrediction:\u001b[39m\u001b[38;5;124m\"\u001b[39m, pred)\n",
      "Cell \u001b[0;32mIn[2], line 32\u001b[0m, in \u001b[0;36mmakePredictions\u001b[0;34m(host_identity_verified, instant_bookable, price, service_fee, minimum_nights, review_rate_number, boro_bronx, boro_brooklyn, boro_manhattan, boro_queens, boro_staten, cancellation_policy_flexible, cancellation_policy_moderate, cancellation_policy_strict, room_type_entire, room_type_hotelr, room_type_privater, room_type_sharedr)\u001b[0m\n\u001b[1;32m     29\u001b[0m input_df \u001b[38;5;241m=\u001b[39m pd\u001b[38;5;241m.\u001b[39mDataFrame(input_data)\n\u001b[1;32m     31\u001b[0m \u001b[38;5;66;03m# Apply any necessary preprocessing/scaling (if your model was trained on scaled data)\u001b[39;00m\n\u001b[0;32m---> 32\u001b[0m input_scaled \u001b[38;5;241m=\u001b[39m \u001b[43mscaler\u001b[49m\u001b[38;5;241m.\u001b[39mtransform(input_df)\n\u001b[1;32m     34\u001b[0m \u001b[38;5;66;03m# Make predictions using the loaded or pre-trained model\u001b[39;00m\n\u001b[1;32m     35\u001b[0m predictions \u001b[38;5;241m=\u001b[39m model\u001b[38;5;241m.\u001b[39mpredict(input_scaled)\n",
      "\u001b[0;31mNameError\u001b[0m: name 'scaler' is not defined"
     ]
    }
   ],
   "source": [
    "# Example call to the function with actual values\n",
    "pred = makePredictions(\n",
    "    host_identity_verified=True, \n",
    "    instant_bookable=False, \n",
    "    price=200.0, \n",
    "    service_fee=20.0, \n",
    "    minimum_nights=3, \n",
    "    review_rate_number=4.5, \n",
    "    boro_bronx=False, \n",
    "    boro_brooklyn=True, \n",
    "    boro_manhattan=False, \n",
    "    boro_queens=False, \n",
    "    boro_staten=False, \n",
    "    cancellation_policy_flexible=True, \n",
    "    cancellation_policy_moderate=False, \n",
    "    cancellation_policy_strict=False, \n",
    "    room_type_entire=True, \n",
    "    room_type_hotelr=False, \n",
    "    room_type_privater=False, \n",
    "    room_type_sharedr=False\n",
    ")\n",
    "\n",
    "print(\"Prediction:\", pred)\n"
   ]
  },
  {
   "cell_type": "code",
   "execution_count": null,
   "id": "c8b302b4-668a-4668-b0f9-774cbc0c8264",
   "metadata": {},
   "outputs": [],
   "source": []
  }
 ],
 "metadata": {
  "kernelspec": {
   "display_name": "Python 3 (ipykernel)",
   "language": "python",
   "name": "python3"
  },
  "language_info": {
   "codemirror_mode": {
    "name": "ipython",
    "version": 3
   },
   "file_extension": ".py",
   "mimetype": "text/x-python",
   "name": "python",
   "nbconvert_exporter": "python",
   "pygments_lexer": "ipython3",
   "version": "3.10.13"
  }
 },
 "nbformat": 4,
 "nbformat_minor": 5
}
