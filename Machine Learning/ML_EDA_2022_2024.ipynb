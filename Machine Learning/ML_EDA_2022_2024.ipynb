{
 "cells": [
  {
   "cell_type": "code",
   "execution_count": 1,
   "metadata": {
    "id": "omp_WWuZipKm"
   },
   "outputs": [],
   "source": [
    "# Data manipulation and numerical operations\n",
    "import pandas as pd\n",
    "pd.set_option('display.max_columns', None)"
   ]
  },
  {
   "cell_type": "code",
   "execution_count": 2,
   "metadata": {},
   "outputs": [],
   "source": [
    "INPUT_PATH = \"Airbnb_Open_Data_Original_2022_2024.csv\"\n",
    "OUTPUT_UNENCODED_PATH = \"airbnb_2022_2024_clean_unencoded.csv\"\n",
    "OUTPUT_ENCODED_PATH = \"airbnb_2022_2024_clean_encoded.csv\"\n",
    "COLUMNS_TO_DROP = ['id', 'NAME','host id','host name', 'neighbourhood', 'Construction year', 'lat', 'long', 'country', 'country code',\n",
    "                   'number of reviews', 'last review', 'reviews per month', 'calculated host listings count', 'house_rules', 'availability 365',\n",
    "                   'license']\n",
    "COL_RENAME = {'neighbourhood_group': 'boro'}    # Abbreviation for efficiency\n",
    "BORO_CORRECTIONS = {'brookln': 'brooklyn', 'manhatan': 'manhattan', 'staten island': 'staten'}\n",
    "ROOM_TYPE_CORRECTIONS = {'Entire home/apt': 'entire', 'Private room': 'privater',  'Shared room': 'sharedr', 'Hotel room': 'hotelr'}\n",
    "MONEY_REGEX = {'\\$': '', ' ': '', ',': ''}\n",
    "MONEY_COLS = ('price', 'service_fee')"
   ]
  },
  {
   "cell_type": "code",
   "execution_count": 3,
   "metadata": {
    "colab": {
     "base_uri": "https://localhost:8080/",
     "height": 304
    },
    "id": "_8iB6wzAqvGg",
    "outputId": "e2c931be-096d-40f3-be10-2d5bc2d14601"
   },
   "outputs": [],
   "source": [
    "def get_string_value_counts(df):\n",
    "    # Select string columns\n",
    "    string_cols = df.select_dtypes(include=['object'])\n",
    "    \n",
    "    # Count unique categories for each string column\n",
    "    unique_counts = string_cols.nunique()\n",
    "    return unique_counts"
   ]
  },
  {
   "cell_type": "code",
   "execution_count": 4,
   "metadata": {
    "colab": {
     "base_uri": "https://localhost:8080/",
     "height": 556
    },
    "id": "j01QHGzE5Ptd",
    "outputId": "f59e421a-8ef6-49ae-d15e-4d8b60918d32"
   },
   "outputs": [
    {
     "name": "stdout",
     "output_type": "stream",
     "text": [
      "(26263, 9)\n"
     ]
    },
    {
     "data": {
      "text/html": [
       "<div>\n",
       "<style scoped>\n",
       "    .dataframe tbody tr th:only-of-type {\n",
       "        vertical-align: middle;\n",
       "    }\n",
       "\n",
       "    .dataframe tbody tr th {\n",
       "        vertical-align: top;\n",
       "    }\n",
       "\n",
       "    .dataframe thead th {\n",
       "        text-align: right;\n",
       "    }\n",
       "</style>\n",
       "<table border=\"1\" class=\"dataframe\">\n",
       "  <thead>\n",
       "    <tr style=\"text-align: right;\">\n",
       "      <th></th>\n",
       "      <th>host_identity_verified</th>\n",
       "      <th>boro</th>\n",
       "      <th>instant_bookable</th>\n",
       "      <th>cancellation_policy</th>\n",
       "      <th>room_type</th>\n",
       "      <th>price</th>\n",
       "      <th>service_fee</th>\n",
       "      <th>minimum_nights</th>\n",
       "      <th>review_rate_number</th>\n",
       "    </tr>\n",
       "  </thead>\n",
       "  <tbody>\n",
       "    <tr>\n",
       "      <th>0</th>\n",
       "      <td>verified</td>\n",
       "      <td>Manhattan</td>\n",
       "      <td>False</td>\n",
       "      <td>moderate</td>\n",
       "      <td>Entire home/apt</td>\n",
       "      <td>$142</td>\n",
       "      <td>$28</td>\n",
       "      <td>30.0</td>\n",
       "      <td>4.0</td>\n",
       "    </tr>\n",
       "    <tr>\n",
       "      <th>1</th>\n",
       "      <td>NaN</td>\n",
       "      <td>Manhattan</td>\n",
       "      <td>True</td>\n",
       "      <td>flexible</td>\n",
       "      <td>Private room</td>\n",
       "      <td>$620</td>\n",
       "      <td>$124</td>\n",
       "      <td>3.0</td>\n",
       "      <td>5.0</td>\n",
       "    </tr>\n",
       "    <tr>\n",
       "      <th>2</th>\n",
       "      <td>verified</td>\n",
       "      <td>Manhattan</td>\n",
       "      <td>NaN</td>\n",
       "      <td>moderate</td>\n",
       "      <td>Entire home/apt</td>\n",
       "      <td>$281</td>\n",
       "      <td>$56</td>\n",
       "      <td>7.0</td>\n",
       "      <td>3.0</td>\n",
       "    </tr>\n",
       "    <tr>\n",
       "      <th>3</th>\n",
       "      <td>verified</td>\n",
       "      <td>Manhattan</td>\n",
       "      <td>NaN</td>\n",
       "      <td>strict</td>\n",
       "      <td>Private room</td>\n",
       "      <td>$274</td>\n",
       "      <td>$55</td>\n",
       "      <td>4.0</td>\n",
       "      <td>NaN</td>\n",
       "    </tr>\n",
       "    <tr>\n",
       "      <th>4</th>\n",
       "      <td>verified</td>\n",
       "      <td>Brooklyn</td>\n",
       "      <td>False</td>\n",
       "      <td>moderate</td>\n",
       "      <td>Private room</td>\n",
       "      <td>$203</td>\n",
       "      <td>$41</td>\n",
       "      <td>60.0</td>\n",
       "      <td>NaN</td>\n",
       "    </tr>\n",
       "  </tbody>\n",
       "</table>\n",
       "</div>"
      ],
      "text/plain": [
       "  host_identity_verified       boro instant_bookable cancellation_policy  \\\n",
       "0               verified  Manhattan            False            moderate   \n",
       "1                    NaN  Manhattan             True            flexible   \n",
       "2               verified  Manhattan              NaN            moderate   \n",
       "3               verified  Manhattan              NaN              strict   \n",
       "4               verified   Brooklyn            False            moderate   \n",
       "\n",
       "         room_type  price service_fee  minimum_nights  review_rate_number  \n",
       "0  Entire home/apt  $142         $28             30.0                 4.0  \n",
       "1     Private room  $620        $124              3.0                 5.0  \n",
       "2  Entire home/apt  $281         $56              7.0                 3.0  \n",
       "3     Private room  $274         $55              4.0                 NaN  \n",
       "4     Private room  $203         $41             60.0                 NaN  "
      ]
     },
     "execution_count": 4,
     "metadata": {},
     "output_type": "execute_result"
    }
   ],
   "source": [
    "# Define the path to the CSV file\n",
    "df = pd.read_csv(INPUT_PATH).drop(columns=COLUMNS_TO_DROP)\n",
    "df.columns = df.columns.str.strip().str.replace(' ', '_').str.lower()\n",
    "df.rename(columns=COL_RENAME, inplace=True)\n",
    "dup_cols = df.columns.duplicated()\n",
    "if any(dup_cols):\n",
    "    print(\"WARNING! duplicate columns:\", df.columns[df.columns.duplicated()].tolist())\n",
    "print(df.shape)\n",
    "df.head()"
   ]
  },
  {
   "cell_type": "code",
   "execution_count": 5,
   "metadata": {
    "colab": {
     "base_uri": "https://localhost:8080/"
    },
    "id": "k0jlUpkoqvDm",
    "outputId": "dbab1151-ca98-4a77-a077-61aa45eb0abe"
   },
   "outputs": [
    {
     "name": "stdout",
     "output_type": "stream",
     "text": [
      "<class 'pandas.core.frame.DataFrame'>\n",
      "RangeIndex: 26263 entries, 0 to 26262\n",
      "Data columns (total 9 columns):\n",
      " #   Column                  Non-Null Count  Dtype  \n",
      "---  ------                  --------------  -----  \n",
      " 0   host_identity_verified  26188 non-null  object \n",
      " 1   boro                    26259 non-null  object \n",
      " 2   instant_bookable        26243 non-null  object \n",
      " 3   cancellation_policy     26247 non-null  object \n",
      " 4   room_type               26263 non-null  object \n",
      " 5   price                   26234 non-null  object \n",
      " 6   service_fee             26220 non-null  object \n",
      " 7   minimum_nights          26120 non-null  float64\n",
      " 8   review_rate_number      26176 non-null  float64\n",
      "dtypes: float64(2), object(7)\n",
      "memory usage: 1.8+ MB\n"
     ]
    }
   ],
   "source": [
    "df.info()"
   ]
  },
  {
   "cell_type": "code",
   "execution_count": 6,
   "metadata": {},
   "outputs": [
    {
     "name": "stdout",
     "output_type": "stream",
     "text": [
      "Columns with more than 50% missing values: \n",
      "Index([], dtype='object') \n",
      "\n"
     ]
    }
   ],
   "source": [
    "print(\"Columns with more than 50% missing values: \")\n",
    "print(df.columns[df.isnull().mean() > 0.5], \"\\n\")\n",
    "# df2= df.drop(df.columns[df.isnull().mean() > 0.5], axis=1)\n",
    "# print(\"Total columns after dropping:\", len(df.columns))"
   ]
  },
  {
   "cell_type": "code",
   "execution_count": 7,
   "metadata": {
    "colab": {
     "base_uri": "https://localhost:8080/"
    },
    "id": "6fkhzb8m3I7P",
    "outputId": "5d013455-0260-4752-a872-780873e1f6d5"
   },
   "outputs": [
    {
     "name": "stdout",
     "output_type": "stream",
     "text": [
      "(25883, 9)\n"
     ]
    }
   ],
   "source": [
    "# Dropping all rows with missing values\n",
    "df2 = df.dropna()\n",
    "del df\n",
    "print(df2.shape)"
   ]
  },
  {
   "cell_type": "code",
   "execution_count": 8,
   "metadata": {},
   "outputs": [
    {
     "name": "stdout",
     "output_type": "stream",
     "text": [
      "Removing 2 rows\n"
     ]
    }
   ],
   "source": [
    "# Remove rows with minimum nights < 0\n",
    "neg_min_night_mask_s = df2['minimum_nights'] < 0\n",
    "print(f\"Removing {neg_min_night_mask_s.sum()} rows\")\n",
    "df2 = df2[~neg_min_night_mask_s]"
   ]
  },
  {
   "cell_type": "code",
   "execution_count": 9,
   "metadata": {},
   "outputs": [
    {
     "data": {
      "text/html": [
       "<div>\n",
       "<style scoped>\n",
       "    .dataframe tbody tr th:only-of-type {\n",
       "        vertical-align: middle;\n",
       "    }\n",
       "\n",
       "    .dataframe tbody tr th {\n",
       "        vertical-align: top;\n",
       "    }\n",
       "\n",
       "    .dataframe thead th {\n",
       "        text-align: right;\n",
       "    }\n",
       "</style>\n",
       "<table border=\"1\" class=\"dataframe\">\n",
       "  <thead>\n",
       "    <tr style=\"text-align: right;\">\n",
       "      <th></th>\n",
       "      <th>minimum_nights</th>\n",
       "      <th>review_rate_number</th>\n",
       "    </tr>\n",
       "  </thead>\n",
       "  <tbody>\n",
       "    <tr>\n",
       "      <th>count</th>\n",
       "      <td>25881.000000</td>\n",
       "      <td>25881.000000</td>\n",
       "    </tr>\n",
       "    <tr>\n",
       "      <th>mean</th>\n",
       "      <td>9.963409</td>\n",
       "      <td>3.368572</td>\n",
       "    </tr>\n",
       "    <tr>\n",
       "      <th>std</th>\n",
       "      <td>32.560010</td>\n",
       "      <td>1.231214</td>\n",
       "    </tr>\n",
       "    <tr>\n",
       "      <th>min</th>\n",
       "      <td>1.000000</td>\n",
       "      <td>1.000000</td>\n",
       "    </tr>\n",
       "    <tr>\n",
       "      <th>25%</th>\n",
       "      <td>1.000000</td>\n",
       "      <td>2.000000</td>\n",
       "    </tr>\n",
       "    <tr>\n",
       "      <th>50%</th>\n",
       "      <td>3.000000</td>\n",
       "      <td>3.000000</td>\n",
       "    </tr>\n",
       "    <tr>\n",
       "      <th>75%</th>\n",
       "      <td>7.000000</td>\n",
       "      <td>4.000000</td>\n",
       "    </tr>\n",
       "    <tr>\n",
       "      <th>max</th>\n",
       "      <td>3455.000000</td>\n",
       "      <td>5.000000</td>\n",
       "    </tr>\n",
       "  </tbody>\n",
       "</table>\n",
       "</div>"
      ],
      "text/plain": [
       "       minimum_nights  review_rate_number\n",
       "count    25881.000000        25881.000000\n",
       "mean         9.963409            3.368572\n",
       "std         32.560010            1.231214\n",
       "min          1.000000            1.000000\n",
       "25%          1.000000            2.000000\n",
       "50%          3.000000            3.000000\n",
       "75%          7.000000            4.000000\n",
       "max       3455.000000            5.000000"
      ]
     },
     "execution_count": 9,
     "metadata": {},
     "output_type": "execute_result"
    }
   ],
   "source": [
    "df2.describe()"
   ]
  },
  {
   "cell_type": "code",
   "execution_count": 10,
   "metadata": {},
   "outputs": [
    {
     "data": {
      "text/plain": [
       "host_identity_verified       2\n",
       "boro                         5\n",
       "instant_bookable             2\n",
       "cancellation_policy          3\n",
       "room_type                    4\n",
       "price                     1151\n",
       "service_fee                231\n",
       "dtype: int64"
      ]
     },
     "execution_count": 10,
     "metadata": {},
     "output_type": "execute_result"
    }
   ],
   "source": [
    "get_string_value_counts(df2)"
   ]
  },
  {
   "cell_type": "code",
   "execution_count": 11,
   "metadata": {},
   "outputs": [
    {
     "name": "stderr",
     "output_type": "stream",
     "text": [
      "/var/folders/x8/57y_699j7wq0_g89kx330q480000gn/T/ipykernel_3049/1812169824.py:2: FutureWarning: Downcasting behavior in `replace` is deprecated and will be removed in a future version. To retain the old behavior, explicitly call `result.infer_objects(copy=False)`. To opt-in to the future behavior, set `pd.set_option('future.no_silent_downcasting', True)`\n",
      "  df2['host_identity_verified'] = df2['host_identity_verified'].replace({'verified': True, 'unconfirmed': False})\n",
      "/var/folders/x8/57y_699j7wq0_g89kx330q480000gn/T/ipykernel_3049/1812169824.py:4: FutureWarning: Downcasting behavior in `replace` is deprecated and will be removed in a future version. To retain the old behavior, explicitly call `result.infer_objects(copy=False)`. To opt-in to the future behavior, set `pd.set_option('future.no_silent_downcasting', True)`\n",
      "  df2['instant_bookable'] = df2['instant_bookable'].replace({'f': False, 't': True})\n"
     ]
    },
    {
     "data": {
      "text/plain": [
       "host_identity_verified       bool\n",
       "boro                       object\n",
       "instant_bookable             bool\n",
       "cancellation_policy        object\n",
       "room_type                  object\n",
       "price                      object\n",
       "service_fee                object\n",
       "minimum_nights            float64\n",
       "review_rate_number        float64\n",
       "dtype: object"
      ]
     },
     "execution_count": 11,
     "metadata": {},
     "output_type": "execute_result"
    }
   ],
   "source": [
    "# Replace 'Binary features' values\n",
    "df2['host_identity_verified'] = df2['host_identity_verified'].replace({'verified': True, 'unconfirmed': False})\n",
    "# df2['neighbourhood_group'] = df2['neighbourhood_group'].replace({'Staten Island': 0, 'Bronx': 2, 'Manhattan': 3, 'Brooklyn': 4, 'Queens': 5})\n",
    "df2['instant_bookable'] = df2['instant_bookable'].replace({'f': False, 't': True})\n",
    "# df2['room_type'] = df2['room_type'].replace({'Hotel room': 0, 'Shared room': 1, 'Private room': 2, 'Entire home/apt': 3})\n",
    "df2.dtypes"
   ]
  },
  {
   "cell_type": "code",
   "execution_count": 12,
   "metadata": {
    "id": "fa7osY_ZLzaf"
   },
   "outputs": [
    {
     "data": {
      "text/plain": [
       "host_identity_verified       bool\n",
       "boro                       object\n",
       "instant_bookable             bool\n",
       "cancellation_policy        object\n",
       "room_type                  object\n",
       "price                     float64\n",
       "service_fee               float64\n",
       "minimum_nights            float64\n",
       "review_rate_number        float64\n",
       "dtype: object"
      ]
     },
     "execution_count": 12,
     "metadata": {},
     "output_type": "execute_result"
    }
   ],
   "source": [
    "# Clean the 'price' and 'service_fee' columns\n",
    "for col in MONEY_COLS:\n",
    "    df2[col] = df2[col].replace(MONEY_REGEX, regex=True).astype(float)\n",
    "df2.dtypes"
   ]
  },
  {
   "cell_type": "code",
   "execution_count": 13,
   "metadata": {
    "id": "ilceulutT87l"
   },
   "outputs": [],
   "source": [
    "# Correcting typos on the dataset\n",
    "df2['boro'] = df2['boro'].str.lower().replace(BORO_CORRECTIONS)\n",
    "df2['room_type'] = df2['room_type'].replace(ROOM_TYPE_CORRECTIONS)"
   ]
  },
  {
   "cell_type": "code",
   "execution_count": 14,
   "metadata": {},
   "outputs": [
    {
     "data": {
      "text/plain": [
       "boro                   5\n",
       "cancellation_policy    3\n",
       "room_type              4\n",
       "dtype: int64"
      ]
     },
     "execution_count": 14,
     "metadata": {},
     "output_type": "execute_result"
    }
   ],
   "source": [
    "get_string_value_counts(df2)"
   ]
  },
  {
   "cell_type": "code",
   "execution_count": 15,
   "metadata": {},
   "outputs": [],
   "source": [
    "# Save the cleaned, un-encoded data for visualizations\n",
    "df2.to_csv(OUTPUT_UNENCODED_PATH, index_label=\"index\")"
   ]
  },
  {
   "cell_type": "markdown",
   "metadata": {},
   "source": [
    "## Encode the categorical columns for ML and save"
   ]
  },
  {
   "cell_type": "code",
   "execution_count": 16,
   "metadata": {},
   "outputs": [],
   "source": [
    "df_encoded = pd.get_dummies(df2)\n",
    "del df2"
   ]
  },
  {
   "cell_type": "code",
   "execution_count": 17,
   "metadata": {
    "colab": {
     "base_uri": "https://localhost:8080/"
    },
    "id": "qr4g9V8muFvO",
    "outputId": "54688b4e-fc4b-4ef0-93b3-36b5ac539f9c"
   },
   "outputs": [
    {
     "name": "stdout",
     "output_type": "stream",
     "text": [
      "<class 'pandas.core.frame.DataFrame'>\n",
      "Index: 25881 entries, 0 to 26256\n",
      "Data columns (total 18 columns):\n",
      " #   Column                        Non-Null Count  Dtype  \n",
      "---  ------                        --------------  -----  \n",
      " 0   host_identity_verified        25881 non-null  bool   \n",
      " 1   instant_bookable              25881 non-null  bool   \n",
      " 2   price                         25881 non-null  float64\n",
      " 3   service_fee                   25881 non-null  float64\n",
      " 4   minimum_nights                25881 non-null  float64\n",
      " 5   review_rate_number            25881 non-null  float64\n",
      " 6   boro_bronx                    25881 non-null  bool   \n",
      " 7   boro_brooklyn                 25881 non-null  bool   \n",
      " 8   boro_manhattan                25881 non-null  bool   \n",
      " 9   boro_queens                   25881 non-null  bool   \n",
      " 10  boro_staten                   25881 non-null  bool   \n",
      " 11  cancellation_policy_flexible  25881 non-null  bool   \n",
      " 12  cancellation_policy_moderate  25881 non-null  bool   \n",
      " 13  cancellation_policy_strict    25881 non-null  bool   \n",
      " 14  room_type_entire              25881 non-null  bool   \n",
      " 15  room_type_hotelr              25881 non-null  bool   \n",
      " 16  room_type_privater            25881 non-null  bool   \n",
      " 17  room_type_sharedr             25881 non-null  bool   \n",
      "dtypes: bool(14), float64(4)\n",
      "memory usage: 1.3 MB\n"
     ]
    }
   ],
   "source": [
    "df_encoded.info()"
   ]
  },
  {
   "cell_type": "code",
   "execution_count": 18,
   "metadata": {},
   "outputs": [],
   "source": [
    "df_encoded.to_csv(OUTPUT_ENCODED_PATH, index_label=\"index\")"
   ]
  }
 ],
 "metadata": {
  "colab": {
   "provenance": []
  },
  "kernelspec": {
   "display_name": "Python 3 (ipykernel)",
   "language": "python",
   "name": "python3"
  },
  "language_info": {
   "codemirror_mode": {
    "name": "ipython",
    "version": 3
   },
   "file_extension": ".py",
   "mimetype": "text/x-python",
   "name": "python",
   "nbconvert_exporter": "python",
   "pygments_lexer": "ipython3",
   "version": "3.10.13"
  }
 },
 "nbformat": 4,
 "nbformat_minor": 4
}
